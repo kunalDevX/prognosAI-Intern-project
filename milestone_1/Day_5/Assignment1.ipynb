{
  "nbformat": 4,
  "nbformat_minor": 0,
  "metadata": {
    "colab": {
      "provenance": [],
      "toc_visible": true
    },
    "kernelspec": {
      "name": "python3",
      "display_name": "Python 3"
    },
    "language_info": {
      "name": "python"
    }
  },
  "cells": [
    {
      "cell_type": "markdown",
      "source": [
        "##Task 1\n",
        "1. Write Python code to load the raw train_FD001.txt dataset for CMAPSS using Pandas, assign appropriate column names, and display the shape, data types, and first 5 rows of the DataFrame.\n",
        "2. Expected Output: DataFrame shape, info, and sample rows."
      ],
      "metadata": {
        "id": "YrQ3TOscJdfC"
      }
    },
    {
      "cell_type": "code",
      "execution_count": 3,
      "metadata": {
        "id": "8oY2eztpfxjJ",
        "colab": {
          "base_uri": "https://localhost:8080/"
        },
        "outputId": "2e20419d-afe7-47b5-94e2-389224fbb344"
      },
      "outputs": [
        {
          "output_type": "stream",
          "name": "stdout",
          "text": [
            "Shape of the DataFrame: (20631, 26)\n",
            "First 5 rows of dataset:\n",
            "   engine_id  cycle  op_setting_1  op_setting_2  op_setting_3  sensor_1  \\\n",
            "0          1      1       -0.0007       -0.0004         100.0    518.67   \n",
            "1          1      2        0.0019       -0.0003         100.0    518.67   \n",
            "2          1      3       -0.0043        0.0003         100.0    518.67   \n",
            "3          1      4        0.0007        0.0000         100.0    518.67   \n",
            "4          1      5       -0.0019       -0.0002         100.0    518.67   \n",
            "\n",
            "   sensor_2  sensor_3  sensor_4  sensor_5  ...  sensor_12  sensor_13  \\\n",
            "0    641.82   1589.70   1400.60     14.62  ...     521.66    2388.02   \n",
            "1    642.15   1591.82   1403.14     14.62  ...     522.28    2388.07   \n",
            "2    642.35   1587.99   1404.20     14.62  ...     522.42    2388.03   \n",
            "3    642.35   1582.79   1401.87     14.62  ...     522.86    2388.08   \n",
            "4    642.37   1582.85   1406.22     14.62  ...     522.19    2388.04   \n",
            "\n",
            "   sensor_14  sensor_15  sensor_16  sensor_17  sensor_18  sensor_19  \\\n",
            "0    8138.62     8.4195       0.03        392       2388      100.0   \n",
            "1    8131.49     8.4318       0.03        392       2388      100.0   \n",
            "2    8133.23     8.4178       0.03        390       2388      100.0   \n",
            "3    8133.83     8.3682       0.03        392       2388      100.0   \n",
            "4    8133.80     8.4294       0.03        393       2388      100.0   \n",
            "\n",
            "   sensor_20  sensor_21  \n",
            "0      39.06    23.4190  \n",
            "1      39.00    23.4236  \n",
            "2      38.95    23.3442  \n",
            "3      38.88    23.3739  \n",
            "4      38.90    23.4044  \n",
            "\n",
            "[5 rows x 26 columns]\n"
          ]
        }
      ],
      "source": [
        "# 1. Import necessary libraries\n",
        "import pandas as pd\n",
        "import numpy as np\n",
        "import matplotlib.pyplot as plt\n",
        "\n",
        "# 2. Define column names for the dataset\n",
        "column_names = [\"engine_id\", \"cycle\", \"op_setting_1\", \"op_setting_2\", \"op_setting_3\"] + [f\"sensor_{i}\" for i in range(1,22)]\n",
        "\n",
        "# 3. Load the dataset\n",
        "df = pd.read_csv('/content/drive/MyDrive/data/train_FD001.txt', sep=r'\\s+', header=None, names=column_names)\n",
        "\n",
        "# 4. Inspect the dataset\n",
        "print(\"Shape of the DataFrame:\", df.shape)\n",
        "print(\"First 5 rows of dataset:\")\n",
        "print(df.head())"
      ]
    },
    {
      "cell_type": "code",
      "source": [
        "# 5. Check for missing values\n",
        "print(\"\\nMissing values per column:\")\n",
        "print(df.isnull().sum())\n",
        "\n",
        "# Handle missing values if any exist\n",
        "if df.isnull().any().any():\n",
        "    df = df.fillna(method='ffill').fillna(method='bfill')\n",
        "    print(\"Missing values after filling:\", df.isnull().sum().sum())\n",
        "else:\n",
        "    print(\"No missing values detected.\")\n",
        "\n",
        "# 7. Save cleaned dataset to CSV\n",
        "df.to_csv('cmapss_cleaned_train_FD001.csv', index=False)\n",
        "\n",
        "# 8. Final summary\n",
        "print(f\"\\nThe cleaned dataset has {df.shape[0]} rows and {df.shape[1]} columns.\")\n",
        "print(\"Data loading and initial cleaning complete.\")"
      ],
      "metadata": {
        "colab": {
          "base_uri": "https://localhost:8080/"
        },
        "id": "I8pc3xJiL4I8",
        "outputId": "460be4f4-1a99-4236-a3b2-37cdb631a7b8"
      },
      "execution_count": 4,
      "outputs": [
        {
          "output_type": "stream",
          "name": "stdout",
          "text": [
            "\n",
            "Missing values per column:\n",
            "engine_id       0\n",
            "cycle           0\n",
            "op_setting_1    0\n",
            "op_setting_2    0\n",
            "op_setting_3    0\n",
            "sensor_1        0\n",
            "sensor_2        0\n",
            "sensor_3        0\n",
            "sensor_4        0\n",
            "sensor_5        0\n",
            "sensor_6        0\n",
            "sensor_7        0\n",
            "sensor_8        0\n",
            "sensor_9        0\n",
            "sensor_10       0\n",
            "sensor_11       0\n",
            "sensor_12       0\n",
            "sensor_13       0\n",
            "sensor_14       0\n",
            "sensor_15       0\n",
            "sensor_16       0\n",
            "sensor_17       0\n",
            "sensor_18       0\n",
            "sensor_19       0\n",
            "sensor_20       0\n",
            "sensor_21       0\n",
            "dtype: int64\n",
            "No missing values detected.\n",
            "\n",
            "The cleaned dataset has 20631 rows and 26 columns.\n",
            "Data loading and initial cleaning complete.\n"
          ]
        }
      ]
    },
    {
      "cell_type": "markdown",
      "source": [
        "# Task 2\n",
        " 1. Using the loaded dataset (or the cleaned version), visualize the distribution of values for any three sensor columns with histograms, and check for missing values in all columns.\n",
        " 2. Expected Output: Three histogram plots and a summary/report on missing values per column."
      ],
      "metadata": {
        "id": "1oCp_VstMmRe"
      }
    },
    {
      "cell_type": "code",
      "source": [
        "import pandas as pd\n",
        "import matplotlib.pyplot as plt\n",
        "import seaborn as sns\n",
        "\n",
        "# Load cleaned CMAPSS dataset\n",
        "df = pd.read_csv('/content/drive/MyDrive/PrognosAI/milestone_1/Day_1/cmapss_cleaned_train_FD001.csv')\n",
        "\n",
        "#  Quick look at dataset\n",
        "print(\"Shape of dataset:\", df.shape)\n",
        "print(\"First 5 rows:\\n\", df.head())\n",
        "\n",
        "# Check for missing values\n",
        "print(\"\\nMissing values per column:\")\n",
        "print(df.isnull().sum())\n",
        "\n",
        "# Handle missing values if any exist\n",
        "if df.isnull().any().any():\n",
        "    df = df.fillna(method='ffill').fillna(method='bfill')\n",
        "    print(\"Missing values after filling:\", df.isnull().sum().sum())\n",
        "else:\n",
        "    print(\"No missing values detected.\")\n",
        "\n"
      ],
      "metadata": {
        "colab": {
          "base_uri": "https://localhost:8080/"
        },
        "id": "n7SPaSyAM45u",
        "outputId": "074a9eec-5eba-4ce8-8c24-5bbc96bb72a5"
      },
      "execution_count": 5,
      "outputs": [
        {
          "output_type": "stream",
          "name": "stdout",
          "text": [
            "Shape of dataset: (20631, 26)\n",
            "First 5 rows:\n",
            "    engine_id  cycle  op_setting_1  op_setting_2  op_setting_3  sensor_1  \\\n",
            "0          1      1       -0.0007       -0.0004         100.0    518.67   \n",
            "1          1      2        0.0019       -0.0003         100.0    518.67   \n",
            "2          1      3       -0.0043        0.0003         100.0    518.67   \n",
            "3          1      4        0.0007        0.0000         100.0    518.67   \n",
            "4          1      5       -0.0019       -0.0002         100.0    518.67   \n",
            "\n",
            "   sensor_2  sensor_3  sensor_4  sensor_5  ...  sensor_12  sensor_13  \\\n",
            "0    641.82   1589.70   1400.60     14.62  ...     521.66    2388.02   \n",
            "1    642.15   1591.82   1403.14     14.62  ...     522.28    2388.07   \n",
            "2    642.35   1587.99   1404.20     14.62  ...     522.42    2388.03   \n",
            "3    642.35   1582.79   1401.87     14.62  ...     522.86    2388.08   \n",
            "4    642.37   1582.85   1406.22     14.62  ...     522.19    2388.04   \n",
            "\n",
            "   sensor_14  sensor_15  sensor_16  sensor_17  sensor_18  sensor_19  \\\n",
            "0    8138.62     8.4195       0.03        392       2388      100.0   \n",
            "1    8131.49     8.4318       0.03        392       2388      100.0   \n",
            "2    8133.23     8.4178       0.03        390       2388      100.0   \n",
            "3    8133.83     8.3682       0.03        392       2388      100.0   \n",
            "4    8133.80     8.4294       0.03        393       2388      100.0   \n",
            "\n",
            "   sensor_20  sensor_21  \n",
            "0      39.06    23.4190  \n",
            "1      39.00    23.4236  \n",
            "2      38.95    23.3442  \n",
            "3      38.88    23.3739  \n",
            "4      38.90    23.4044  \n",
            "\n",
            "[5 rows x 26 columns]\n",
            "\n",
            "Missing values per column:\n",
            "engine_id       0\n",
            "cycle           0\n",
            "op_setting_1    0\n",
            "op_setting_2    0\n",
            "op_setting_3    0\n",
            "sensor_1        0\n",
            "sensor_2        0\n",
            "sensor_3        0\n",
            "sensor_4        0\n",
            "sensor_5        0\n",
            "sensor_6        0\n",
            "sensor_7        0\n",
            "sensor_8        0\n",
            "sensor_9        0\n",
            "sensor_10       0\n",
            "sensor_11       0\n",
            "sensor_12       0\n",
            "sensor_13       0\n",
            "sensor_14       0\n",
            "sensor_15       0\n",
            "sensor_16       0\n",
            "sensor_17       0\n",
            "sensor_18       0\n",
            "sensor_19       0\n",
            "sensor_20       0\n",
            "sensor_21       0\n",
            "dtype: int64\n",
            "No missing values detected.\n"
          ]
        }
      ]
    },
    {
      "cell_type": "code",
      "source": [
        "# Visualize distribution of three sensor\n",
        "sensor_list = ['sensor_1', 'sensor_2', 'sensor_3']\n",
        "\n",
        "for sensor in sensor_list:\n",
        "    plt.figure(figsize=(4,3))  # small plot\n",
        "    sns.histplot(df[sensor], bins=20, kde=True, color='skyblue')\n",
        "    plt.title(f\"Distribution of {sensor}\", fontsize=10)\n",
        "    plt.xlabel('')\n",
        "    plt.ylabel('')\n",
        "    plt.tight_layout()\n",
        "    plt.show()"
      ],
      "metadata": {
        "colab": {
          "base_uri": "https://localhost:8080/",
          "height": 887
        },
        "id": "sP2oiF7PNrO-",
        "outputId": "64a945a2-5ede-421d-fc3b-f3a92a03609e"
      },
      "execution_count": 6,
      "outputs": [
        {
          "output_type": "display_data",
          "data": {
            "text/plain": [
              "<Figure size 400x300 with 1 Axes>"
            ],
            "image/png": "[encoded data removed]"
          },
          "metadata": {}
        },
        {
          "output_type": "display_data",
          "data": {
            "text/plain": [
              "<Figure size 400x300 with 1 Axes>"
            ],
            "image/png": "[encoded data removed]"
          },
          "metadata": {}
        },
        {
          "output_type": "display_data",
          "data": {
            "text/plain": [
              "<Figure size 400x300 with 1 Axes>"
            ],
            "image/png": "[encoded data removed]"
          },
          "metadata": {}
        }
      ]
    },
    {
      "cell_type": "markdown",
      "source": [
        "#Task 3\n",
        "1. For a selected sensor (e.g., sensor_2), compute and append to the DataFrame:\n",
        "* The mean and standard deviation of sensor_2 by each engine_id\n",
        "* Expected Output: Show a few sample rows with these new features.\n",
        "2. Expected Output: Show a few sample rows with these new features.\n"
      ],
      "metadata": {
        "id": "oDydtVI2OEcH"
      }
    },
    {
      "cell_type": "code",
      "source": [
        "import pandas as pd\n",
        "\n",
        "# Load cleaned CMAPSS dataset\n",
        "df = pd.read_csv('/content/drive/MyDrive/PrognosAI/milestone_1/Day_1/cmapss_cleaned_train_FD001.csv')\n",
        "\n",
        "#  Compute engine-wise aggregate features for sensor_2 (Mean and standard deviation per engine)\n",
        "sensor_agg = df.groupby('engine_id')['sensor_2'].agg(['mean', 'std']).reset_index()\n",
        "sensor_agg.rename(columns={'mean':'sensor_2_mean_by_engine', 'std':'sensor_2_std_by_engine'}, inplace=True)\n",
        "\n",
        "# Merge these features back to the main DataFrame\n",
        "df = df.merge(sensor_agg, on='engine_id', how='left')\n",
        "\n",
        "#  Compute rolling mean for sensor_2 (window=5 cycles) per engine\n",
        "df['sensor_2_rollmean5'] = df.groupby('engine_id')['sensor_2'].rolling(window=5, min_periods=1).mean().reset_index(level=0, drop=True)\n",
        "\n",
        "#  Display a few sample rows with new features\n",
        "cols_to_show = ['engine_id', 'cycle', 'sensor_2', 'sensor_2_mean_by_engine', 'sensor_2_std_by_engine', 'sensor_2_rollmean5']\n",
        "print(df[cols_to_show].head(10))"
      ],
      "metadata": {
        "colab": {
          "base_uri": "https://localhost:8080/"
        },
        "id": "ldthYdSFOgur",
        "outputId": "fb0167c1-5da6-4ca6-fa61-0ff6379ec5b0"
      },
      "execution_count": 7,
      "outputs": [
        {
          "output_type": "stream",
          "name": "stdout",
          "text": [
            "   engine_id  cycle  sensor_2  sensor_2_mean_by_engine  \\\n",
            "0          1      1    641.82               642.621042   \n",
            "1          1      2    642.15               642.621042   \n",
            "2          1      3    642.35               642.621042   \n",
            "3          1      4    642.35               642.621042   \n",
            "4          1      5    642.37               642.621042   \n",
            "5          1      6    642.10               642.621042   \n",
            "6          1      7    642.48               642.621042   \n",
            "7          1      8    642.56               642.621042   \n",
            "8          1      9    642.12               642.621042   \n",
            "9          1     10    641.71               642.621042   \n",
            "\n",
            "   sensor_2_std_by_engine  sensor_2_rollmean5  \n",
            "0                0.486795          641.820000  \n",
            "1                0.486795          641.985000  \n",
            "2                0.486795          642.106667  \n",
            "3                0.486795          642.167500  \n",
            "4                0.486795          642.208000  \n",
            "5                0.486795          642.264000  \n",
            "6                0.486795          642.330000  \n",
            "7                0.486795          642.372000  \n",
            "8                0.486795          642.326000  \n",
            "9                0.486795          642.194000  \n"
          ]
        }
      ]
    },
    {
      "cell_type": "markdown",
      "source": [
        "# Task 4\n",
        "1. Normalize all sensor columns in the DataFrame using StandardScaler from scikit-learn (zero mean, unit variance) and create a new DataFrame, maintaining the original engine_id and cycle columns.\n",
        "2. Expected Output: Head of the normalized DataFrame and a check that means are close to zero, std are close to one."
      ],
      "metadata": {
        "id": "vy-ZlQYTPLFw"
      }
    },
    {
      "cell_type": "code",
      "source": [
        "import pandas as pd\n",
        "from sklearn.preprocessing import StandardScaler\n",
        "\n",
        "# Load cleaned CMAPSS dataset\n",
        "df = pd.read_csv('/content/drive/MyDrive/PrognosAI/milestone_1/Day_1/cmapss_cleaned_train_FD001.csv')\n",
        "\n",
        "#  Identify sensor columns to normalize\n",
        "sensor_cols = [col for col in df.columns if 'sensor_' in col]\n",
        "\n",
        "#  Initialize StandardScaler (zero mean, unit variance)\n",
        "scaler = StandardScaler()\n",
        "\n",
        "#  Create a copy of the dataset for scaling\n",
        "df_scaled = df.copy()\n",
        "\n",
        "#  Apply scaler to sensor columns\n",
        "df_scaled[sensor_cols] = scaler.fit_transform(df[sensor_cols])\n",
        "\n",
        "#  Display first 5 rows to check\n",
        "print(\"Head of normalized sensor columns:\")\n",
        "print(df_scaled[['engine_id', 'cycle'] + sensor_cols].head())\n",
        "\n",
        "#  Check means and standard deviations of normalized columns\n",
        "print(\"\\nMean of normalized columns (should be ~0):\")\n",
        "print(df_scaled[sensor_cols].mean().round(6))\n",
        "print(\"\\nStd of normalized columns (should be ~1):\")\n",
        "print(df_scaled[sensor_cols].std().round(6))"
      ],
      "metadata": {
        "colab": {
          "base_uri": "https://localhost:8080/"
        },
        "id": "6VYsNXVJPP1R",
        "outputId": "2d639006-d5bc-4835-ad77-b075bbb43afb"
      },
      "execution_count": 8,
      "outputs": [
        {
          "output_type": "stream",
          "name": "stdout",
          "text": [
            "Head of normalized sensor columns:\n",
            "   engine_id  cycle  sensor_1  sensor_2  sensor_3  sensor_4      sensor_5  \\\n",
            "0          1      1       0.0 -1.721725 -0.134255 -0.925936 -1.776357e-15   \n",
            "1          1      2       0.0 -1.061780  0.211528 -0.643726 -1.776357e-15   \n",
            "2          1      3       0.0 -0.661813 -0.413166 -0.525953 -1.776357e-15   \n",
            "3          1      4       0.0 -0.661813 -1.261314 -0.784831 -1.776357e-15   \n",
            "4          1      5       0.0 -0.621816 -1.251528 -0.301518 -1.776357e-15   \n",
            "\n",
            "   sensor_6  sensor_7  sensor_8  ...  sensor_12  sensor_13  sensor_14  \\\n",
            "0  0.141683  1.121141 -0.516338  ...   0.334262  -1.058890  -0.269071   \n",
            "1  0.141683  0.431930 -0.798093  ...   1.174899  -0.363646  -0.642845   \n",
            "2  0.141683  1.008155 -0.234584  ...   1.364721  -0.919841  -0.551629   \n",
            "3  0.141683  1.222827  0.188048  ...   1.961302  -0.224597  -0.520176   \n",
            "4  0.141683  0.714393 -0.516338  ...   1.052871  -0.780793  -0.521748   \n",
            "\n",
            "   sensor_15     sensor_16  sensor_17  sensor_18  sensor_19  sensor_20  \\\n",
            "0  -0.603816 -1.387779e-17  -0.781710        0.0        0.0   1.348493   \n",
            "1  -0.275852 -1.387779e-17  -0.781710        0.0        0.0   1.016528   \n",
            "2  -0.649144 -1.387779e-17  -2.073094        0.0        0.0   0.739891   \n",
            "3  -1.971665 -1.387779e-17  -0.781710        0.0        0.0   0.352598   \n",
            "4  -0.339845 -1.387779e-17  -0.136018        0.0        0.0   0.463253   \n",
            "\n",
            "   sensor_21  \n",
            "0   1.194427  \n",
            "1   1.236922  \n",
            "2   0.503423  \n",
            "3   0.777792  \n",
            "4   1.059552  \n",
            "\n",
            "[5 rows x 23 columns]\n",
            "\n",
            "Mean of normalized columns (should be ~0):\n",
            "sensor_1     0.0\n",
            "sensor_2     0.0\n",
            "sensor_3    -0.0\n",
            "sensor_4     0.0\n",
            "sensor_5    -0.0\n",
            "sensor_6    -0.0\n",
            "sensor_7    -0.0\n",
            "sensor_8     0.0\n",
            "sensor_9    -0.0\n",
            "sensor_10    0.0\n",
            "sensor_11   -0.0\n",
            "sensor_12   -0.0\n",
            "sensor_13    0.0\n",
            "sensor_14    0.0\n",
            "sensor_15   -0.0\n",
            "sensor_16   -0.0\n",
            "sensor_17    0.0\n",
            "sensor_18    0.0\n",
            "sensor_19    0.0\n",
            "sensor_20    0.0\n",
            "sensor_21    0.0\n",
            "dtype: float64\n",
            "\n",
            "Std of normalized columns (should be ~1):\n",
            "sensor_1     0.000000\n",
            "sensor_2     1.000024\n",
            "sensor_3     1.000024\n",
            "sensor_4     1.000024\n",
            "sensor_5     0.000000\n",
            "sensor_6     1.000024\n",
            "sensor_7     1.000024\n",
            "sensor_8     1.000024\n",
            "sensor_9     1.000024\n",
            "sensor_10    0.000000\n",
            "sensor_11    1.000024\n",
            "sensor_12    1.000024\n",
            "sensor_13    1.000024\n",
            "sensor_14    1.000024\n",
            "sensor_15    1.000024\n",
            "sensor_16    0.000000\n",
            "sensor_17    1.000024\n",
            "sensor_18    0.000000\n",
            "sensor_19    0.000000\n",
            "sensor_20    1.000024\n",
            "sensor_21    1.000024\n",
            "dtype: float64\n"
          ]
        }
      ]
    },
    {
      "cell_type": "markdown",
      "source": [
        "# Task 5\n",
        "1. Write a function to generate rolling window sequences of length 30 for the sensors of each engine. Save the resulting 3D NumPy array (num_sequences, window_size, num_features), and save the corresponding engine_id and cycle identifier lists as CSV files. Print the shape of the resulting sequence array and contents of the first entry.\n",
        "2. Expected Output: Array shape, example content, and confirmation of successful file saves."
      ],
      "metadata": {
        "id": "GXiJiukTQXph"
      }
    },
    {
      "cell_type": "code",
      "source": [
        "import pandas as pd\n",
        "import numpy as np\n",
        "\n",
        "# Load cleaned CMAPSS dataset\n",
        "df = pd.read_csv('/content/drive/MyDrive/PrognosAI/milestone_1/Day_1/cmapss_cleaned_train_FD001.csv')\n",
        "\n",
        "# Define window size and exclude columns\n",
        "window_stats = 5\n",
        "window_size = 30\n",
        "exclude_cols = ['engine_id', 'cycle']\n",
        "\n",
        "# Rolling window stats\n",
        "sensor_cols = [col for col in df.columns if 'sensor' in col]\n",
        "\n",
        "for col in sensor_cols:\n",
        "    df[f'{col}_rollmean{window_stats}'] = df.groupby('engine_id')[col].rolling(window_stats).mean().reset_index(0, drop=True)\n",
        "    df[f'{col}_rollstd{window_stats}'] = df.groupby('engine_id')[col].rolling(window_stats).std().reset_index(0, drop=True)\n",
        "\n",
        "# 3. Preparing features\n",
        "feature_cols = [col for col in df.columns if col not in exclude_cols]\n",
        "\n",
        "# Ensure the following\n",
        "df = df.sort_values(['engine_id', 'cycle']).reset_index(drop=True)\n",
        "\n",
        "# 4. Generating rolling window sequences\n",
        "def generate_rolling_windows(data, engine_col, features, window_size=30):\n",
        "    sequences = []\n",
        "    engine_ids = []\n",
        "    cycle_ids = []\n",
        "\n",
        "    for engine in data[engine_col].unique():\n",
        "        engine_data = data[data[engine_col] == engine]\n",
        "        engine_features = engine_data[features].values\n",
        "\n",
        "        for i in range(window_size - 1, len(engine_data)):\n",
        "            seq = engine_features[i - window_size + 1: i + 1]\n",
        "            sequences.append(seq)\n",
        "            engine_ids.append(engine)\n",
        "            cycle_ids.append(engine_data.iloc[i]['cycle'])\n",
        "\n",
        "    sequences = np.array(sequences)\n",
        "    return sequences, engine_ids, cycle_ids\n",
        "\n",
        "# 5. Sequence genration\n",
        "sequences, engine_ids, cycle_ids = generate_rolling_windows(df, 'engine_id', feature_cols, window_size)\n",
        "\n",
        "# 6. Print output info\n",
        "print(\"Shape of rolling window sequences:\", sequences.shape)\n",
        "print(\"Example sequence shape:\", sequences[0].shape)\n",
        "print(f\"Engine ID: {engine_ids[0]}, Cycle: {cycle_ids[0]}\")\n",
        "print(\"Sequence data for first time window (shape {}):\".format(sequences[0].shape))\n",
        "print(sequences[0])\n",
        "\n",
        "# 7. File saving\n",
        "pd.DataFrame({'engine_id': engine_ids, 'cycle': cycle_ids}).to_csv('sequence_metadata.csv', index=False)\n",
        "np.save('rolling_window_sequences.npy', sequences)\n",
        "print(\"Sequences and metadata saved successfully.\")"
      ],
      "metadata": {
        "colab": {
          "base_uri": "https://localhost:8080/"
        },
        "id": "Xe4jobYdQft1",
        "outputId": "1f9779b9-2a47-4ca3-afe7-63b8444764bc"
      },
      "execution_count": 10,
      "outputs": [
        {
          "output_type": "stream",
          "name": "stdout",
          "text": [
            "Shape of rolling window sequences: (17731, 30, 66)\n",
            "Example sequence shape: (30, 66)\n",
            "Engine ID: 1, Cycle: 30.0\n",
            "Sequence data for first time window (shape (30, 66)):\n",
            "[[-7.00000000e-04 -4.00000000e-04  1.00000000e+02 ...             nan\n",
            "              nan             nan]\n",
            " [ 1.90000000e-03 -3.00000000e-04  1.00000000e+02 ...             nan\n",
            "              nan             nan]\n",
            " [-4.30000000e-03  3.00000000e-04  1.00000000e+02 ...             nan\n",
            "              nan             nan]\n",
            " ...\n",
            " [-2.40000000e-03  5.00000000e-04  1.00000000e+02 ...  6.14003257e-02\n",
            "   2.33889200e+01  6.52350136e-02]\n",
            " [ 1.20000000e-03 -1.00000000e-04  1.00000000e+02 ...  5.84807661e-02\n",
            "   2.33869400e+01  6.61123513e-02]\n",
            " [-2.20000000e-03  0.00000000e+00  1.00000000e+02 ...  7.42967025e-02\n",
            "   2.33833800e+01  6.37311305e-02]]\n",
            "Sequences and metadata saved successfully.\n"
          ]
        }
      ]
    }
  ]
}